{
 "cells": [
  {
   "cell_type": "markdown",
   "metadata": {},
   "source": [
    "# Q1"
   ]
  },
  {
   "cell_type": "code",
   "execution_count": 15,
   "metadata": {
    "collapsed": true
   },
   "outputs": [],
   "source": [
    "import pandas as pd"
   ]
  },
  {
   "cell_type": "code",
   "execution_count": 16,
   "metadata": {
    "collapsed": true
   },
   "outputs": [],
   "source": [
    "url = 'http://www.nasdaq.com/screening/companies-by-industry.aspx?exchange=NASDAQ&render=download'\n",
    "df = pd.read_csv(url)"
   ]
  },
  {
   "cell_type": "code",
   "execution_count": 17,
   "metadata": {},
   "outputs": [
    {
     "data": {
      "text/html": [
       "<div>\n",
       "<style>\n",
       "    .dataframe thead tr:only-child th {\n",
       "        text-align: right;\n",
       "    }\n",
       "\n",
       "    .dataframe thead th {\n",
       "        text-align: left;\n",
       "    }\n",
       "\n",
       "    .dataframe tbody tr th {\n",
       "        vertical-align: top;\n",
       "    }\n",
       "</style>\n",
       "<table border=\"1\" class=\"dataframe\">\n",
       "  <thead>\n",
       "    <tr style=\"text-align: right;\">\n",
       "      <th></th>\n",
       "      <th>Symbol</th>\n",
       "      <th>Name</th>\n",
       "      <th>LastSale</th>\n",
       "      <th>MarketCap</th>\n",
       "      <th>ADR TSO</th>\n",
       "      <th>IPOyear</th>\n",
       "      <th>Sector</th>\n",
       "      <th>Industry</th>\n",
       "      <th>Summary Quote</th>\n",
       "      <th>Unnamed: 9</th>\n",
       "    </tr>\n",
       "  </thead>\n",
       "  <tbody>\n",
       "    <tr>\n",
       "      <th>0</th>\n",
       "      <td>PIH</td>\n",
       "      <td>1347 Property Insurance Holdings, Inc.</td>\n",
       "      <td>7</td>\n",
       "      <td>4.169736e+07</td>\n",
       "      <td>n/a</td>\n",
       "      <td>2014</td>\n",
       "      <td>Finance</td>\n",
       "      <td>Property-Casualty Insurers</td>\n",
       "      <td>http://www.nasdaq.com/symbol/pih</td>\n",
       "      <td>NaN</td>\n",
       "    </tr>\n",
       "    <tr>\n",
       "      <th>1</th>\n",
       "      <td>TURN</td>\n",
       "      <td>180 Degree Capital Corp.</td>\n",
       "      <td>2</td>\n",
       "      <td>6.224312e+07</td>\n",
       "      <td>n/a</td>\n",
       "      <td>n/a</td>\n",
       "      <td>Finance</td>\n",
       "      <td>Finance/Investors Services</td>\n",
       "      <td>http://www.nasdaq.com/symbol/turn</td>\n",
       "      <td>NaN</td>\n",
       "    </tr>\n",
       "    <tr>\n",
       "      <th>2</th>\n",
       "      <td>FLWS</td>\n",
       "      <td>1-800 FLOWERS.COM, Inc.</td>\n",
       "      <td>9.15</td>\n",
       "      <td>5.909546e+08</td>\n",
       "      <td>n/a</td>\n",
       "      <td>1999</td>\n",
       "      <td>Consumer Services</td>\n",
       "      <td>Other Specialty Stores</td>\n",
       "      <td>http://www.nasdaq.com/symbol/flws</td>\n",
       "      <td>NaN</td>\n",
       "    </tr>\n",
       "    <tr>\n",
       "      <th>3</th>\n",
       "      <td>FCCY</td>\n",
       "      <td>1st Constitution Bancorp (NJ)</td>\n",
       "      <td>17.25</td>\n",
       "      <td>1.391999e+08</td>\n",
       "      <td>n/a</td>\n",
       "      <td>n/a</td>\n",
       "      <td>Finance</td>\n",
       "      <td>Savings Institutions</td>\n",
       "      <td>http://www.nasdaq.com/symbol/fccy</td>\n",
       "      <td>NaN</td>\n",
       "    </tr>\n",
       "    <tr>\n",
       "      <th>4</th>\n",
       "      <td>SRCE</td>\n",
       "      <td>1st Source Corporation</td>\n",
       "      <td>49.17</td>\n",
       "      <td>1.275280e+09</td>\n",
       "      <td>n/a</td>\n",
       "      <td>n/a</td>\n",
       "      <td>Finance</td>\n",
       "      <td>Major Banks</td>\n",
       "      <td>http://www.nasdaq.com/symbol/srce</td>\n",
       "      <td>NaN</td>\n",
       "    </tr>\n",
       "  </tbody>\n",
       "</table>\n",
       "</div>"
      ],
      "text/plain": [
       "  Symbol                                    Name LastSale     MarketCap  \\\n",
       "0    PIH  1347 Property Insurance Holdings, Inc.        7  4.169736e+07   \n",
       "1   TURN                180 Degree Capital Corp.        2  6.224312e+07   \n",
       "2   FLWS                 1-800 FLOWERS.COM, Inc.     9.15  5.909546e+08   \n",
       "3   FCCY           1st Constitution Bancorp (NJ)    17.25  1.391999e+08   \n",
       "4   SRCE                  1st Source Corporation    49.17  1.275280e+09   \n",
       "\n",
       "  ADR TSO IPOyear             Sector                    Industry  \\\n",
       "0     n/a    2014            Finance  Property-Casualty Insurers   \n",
       "1     n/a     n/a            Finance  Finance/Investors Services   \n",
       "2     n/a    1999  Consumer Services      Other Specialty Stores   \n",
       "3     n/a     n/a            Finance        Savings Institutions   \n",
       "4     n/a     n/a            Finance                 Major Banks   \n",
       "\n",
       "                       Summary Quote  Unnamed: 9  \n",
       "0   http://www.nasdaq.com/symbol/pih         NaN  \n",
       "1  http://www.nasdaq.com/symbol/turn         NaN  \n",
       "2  http://www.nasdaq.com/symbol/flws         NaN  \n",
       "3  http://www.nasdaq.com/symbol/fccy         NaN  \n",
       "4  http://www.nasdaq.com/symbol/srce         NaN  "
      ]
     },
     "execution_count": 17,
     "metadata": {},
     "output_type": "execute_result"
    }
   ],
   "source": [
    "df.head()"
   ]
  },
  {
   "cell_type": "markdown",
   "metadata": {},
   "source": [
    "# Q2"
   ]
  },
  {
   "cell_type": "code",
   "execution_count": 18,
   "metadata": {
    "collapsed": true
   },
   "outputs": [],
   "source": [
    "import geocoder"
   ]
  },
  {
   "cell_type": "code",
   "execution_count": 19,
   "metadata": {
    "collapsed": true
   },
   "outputs": [],
   "source": [
    "location = geocoder.google('中山大學管理學院').latlng"
   ]
  },
  {
   "cell_type": "code",
   "execution_count": 20,
   "metadata": {},
   "outputs": [
    {
     "data": {
      "text/plain": [
       "[22.627447, 120.265274]"
      ]
     },
     "execution_count": 20,
     "metadata": {},
     "output_type": "execute_result"
    }
   ],
   "source": [
    "location"
   ]
  },
  {
   "cell_type": "code",
   "execution_count": 21,
   "metadata": {
    "collapsed": true
   },
   "outputs": [],
   "source": [
    "import folium"
   ]
  },
  {
   "cell_type": "code",
   "execution_count": 22,
   "metadata": {},
   "outputs": [
    {
     "data": {
      "text/html": [
       "<div style=\"width:100%;\"><div style=\"position:relative;width:100%;height:0;padding-bottom:60%;\"><iframe src=\"data:text/html;charset=utf-8;base64,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\" style=\"position:absolute;width:100%;height:100%;left:0;top:0;border:none !important;\" allowfullscreen webkitallowfullscreen mozallowfullscreen></iframe></div></div>"
      ],
      "text/plain": [
       "<folium.folium.Map at 0x1fda23a5e48>"
      ]
     },
     "execution_count": 22,
     "metadata": {},
     "output_type": "execute_result"
    }
   ],
   "source": [
    "folium.Map(location = location, zoom_start=16)"
   ]
  },
  {
   "cell_type": "markdown",
   "metadata": {},
   "source": [
    "# Q3"
   ]
  },
  {
   "cell_type": "code",
   "execution_count": 4,
   "metadata": {
    "collapsed": true
   },
   "outputs": [],
   "source": [
    "import util"
   ]
  },
  {
   "cell_type": "code",
   "execution_count": 10,
   "metadata": {
    "collapsed": true
   },
   "outputs": [],
   "source": [
    "news_text = util.get_news_article('https://news.cnyes.com/news/id/3959668')"
   ]
  },
  {
   "cell_type": "code",
   "execution_count": 11,
   "metadata": {},
   "outputs": [
    {
     "data": {
      "text/plain": [
       "'美國股市週三中場下跌。銀行股走低，可能連四天收低，拖累主要指數自高點下滑。\\n週二，道瓊與 S&P 500 均創新收盤高點。\\n共和黨在紐澤西州與維吉尼亞州的選舉中落敗，增加了稅改計畫的不確定性，銀行股因而下跌。\\n台北時間 01:14\\n道瓊工業平均指數下跌 14.54 點或 0.06% 至 23542.69。\\nNasdaq 指數上漲 3.43 點或 0.05% 至 6771.22。\\nS&P 500 指數下跌 0.67 點或 0.03% 至 2589.97。\\n分析師說，維吉尼亞州昨晚的選舉結果，可能促使共和黨在稅改上，採取較民粹的方式，公司稅的改變可能受限。\\n選舉結果亦顯示，2018 年選舉後，眾院可能變天，民主黨的華特斯可能擔任眾院金融服務委員會主席，投資人認為他對金融股屬利空，尤其是大型銀行股。\\n但亦有分析師表示，目前並不擔憂股市。如果看看資產負債表及企業獲利，仍然強勁。但若殖利率曲線反轉，則令人憂心。\\n川普總統勝選已滿一年，美國股市上漲了逾 20%。川普勝選，推升了稅改的期望，拉抬了股市氣氛。\\n在選後的漲勢裡，波動率非常低。上週，CBOE 波動指數跌破 9，為史上第三次跌破該水準。\\nS&P 500 出現了數十年來最長久的漲勢之一，未見有 3% 或 5% 的回檔。\\n大選後，股市強勁的漲勢，係獲得全球經濟改善的支撑。分析師說，選舉的確會對股市造成衝擊，但影響股市的主要因素仍是全球經濟強勁。\\n企業季報大多已公布，本財報季可謂強勁。已有 87% 的 S&P 500 企業公布了財報，獲利較去年同期成長 6.4%，74% 企業獲利優於預期。\\n'"
      ]
     },
     "execution_count": 11,
     "metadata": {},
     "output_type": "execute_result"
    }
   ],
   "source": [
    "news_text"
   ]
  },
  {
   "cell_type": "code",
   "execution_count": 12,
   "metadata": {
    "collapsed": true
   },
   "outputs": [],
   "source": [
    "import jieba"
   ]
  },
  {
   "cell_type": "code",
   "execution_count": 25,
   "metadata": {},
   "outputs": [
    {
     "name": "stdout",
     "output_type": "stream",
     "text": [
      "全模式: 美/ 國/ 股市/ 週/ 三中/ 場/ 下跌/ / / 銀/ 行/ 股/ 走低/ / / 可能/ 連/ 四天/ 收/ 低/ / / 拖累/ 主要/ 指/ 數/ 自/ 高/ 點/ 下滑/ / \n",
      "/ 週/ 二/ / / 道/ 瓊/ 與/ / S/ P/ 500/ / 均/ 創/ 新/ 收/ 盤/ 高/ 點/ / \n",
      "/ 共和/ 黨/ 在/ 紐/ 澤/ 西州/ 與/ 維/ 吉/ 尼/ 亞/ 州/ 的/ 選/ 舉/ 中落/ 敗/ / / 增加/ 了/ 稅/ 改/ 計/ 畫/ 的/ 不/ 確/ 定性/ / / 銀/ 行/ 股/ 因而/ 下跌/ / \n",
      "/ 台北/ 時/ 間/ / 01/ 14\n",
      "/ 道/ 瓊/ 工/ 業/ 平均/ 指/ 數/ 下跌/ / 14/ 54/ / 點/ 或/ / 0/ 06/ / / 至/ / 23542/ 69/ \n",
      "Nasdaq/ / 指/ 數/ 上/ 漲/ / 3/ 43/ / 點/ 或/ / 0/ 05/ / / 至/ / 6771/ 22/ \n",
      "S/ P/ 500/ / 指/ 數/ 下跌/ / 0/ 67/ / 點/ 或/ / 0/ 03/ / / 至/ / 2589/ 97/ \n",
      "/ 分析/ 師/ 說/ / / 維/ 吉/ 尼/ 亞/ 州/ 昨晚/ 的/ 選/ 舉/ 結/ 果/ / / 可能/ 促使/ 共和/ 黨/ 在/ 稅/ 改上/ / / 採/ 取/ 較/ 民粹/ 的/ 方式/ / / 公司/ 稅/ 的/ 改/ 變/ 可能/ 受限/ / \n",
      "/ 選/ 舉/ 結/ 果/ 亦/ 顯/ 示/ / 2018/ / 年/ 選/ 舉/ 後/ / / 眾/ 院/ 可能/ 變/ 天/ / / 民主/ 黨/ 的/ 華/ 特斯/ 可能/ 擔/ 任/ 眾/ 院/ 金融/ 服/ 務/ 委/ 員/ 會/ 主席/ / / 投/ 資/ 人/ 認/ 為/ 他/ 對/ 金融/ 金融股/ 屬/ 利空/ / / 尤其/ 是/ 大型/ 銀/ 行/ 股/ / \n",
      "/ 但/ 亦/ 有/ 分析/ 師/ 表示/ / / 目前/ 並/ 不/ 擔/ 憂/ 股市/ / / 如果/ 看看/ 資/ 產/ 負/ 債/ 表/ 及/ 企/ 業/ 獲/ 利/ / / 仍然/ 強/ 勁/ / / 但/ 若/ 殖/ 利率/ 曲/ 線/ 反/ 轉/ / / 則/ 令人/ 憂/ 心/ / \n",
      "/ 川/ 普/ 總/ 統/ 勝/ 選/ 已/ 滿/ 一年/ / / 美/ 國/ 股市/ 市上/ 漲/ 了/ 逾/ / 20/ / / 川/ 普/ 勝/ 選/ / / 推升/ 了/ 稅/ 改/ 的/ 期望/ / / 拉/ 抬/ 了/ 股市/ 氣/ 氛/ / \n",
      "/ 在/ 選/ 後/ 的/ 漲/ 勢/ 裡/ / / 波/ 動/ 率/ 非常/ 非常低/ / / 上/ 週/ / CBOE/ / 波/ 動/ 指/ 數/ 跌破/ / 9/ / 為/ 史/ 上/ 第三/ 第三次/ 三次/ 跌破/ 該/ 水/ 準/ / \n",
      "S/ P/ 500/ / 出/ 現/ 了/ 數/ 十年/ 來/ 最/ 長/ 久/ 的/ 漲/ 勢/ 之一/ / / 未/ 見/ 有/ / 3/ / / 或/ / 5/ / / 的/ 回/ 檔/ / \n",
      "/ 大/ 選/ 後/ / / 股市/ 強/ 勁/ 的/ 漲/ 勢/ / / 係/ 獲/ 得/ 全球/ 經/ 濟/ 改善/ 的/ 支撑/ / / 分析/ 師/ 說/ / / 選/ 舉/ 的/ 確/ 會/ 對/ 股市/ 造成/ 衝/ 擊/ / / 但/ 影/ 響/ 股市/ 的/ 主要/ 因素/ 仍/ 是/ 全球/ 經/ 濟/ 強/ 勁/ / \n",
      "/ 企/ 業/ 季/ 報/ 大多/ 已/ 公布/ / / 本/ 財/ 報/ 季/ 可/ 謂/ 強/ 勁/ / / 已有/ / 87/ / / 的/ / S/ P/ 500/ / 企/ 業/ 公布/ 了/ 財/ 報/ / / 獲/ 利/ 較/ 去年/ 去年同期/ 同期/ 成/ 長/ / 6/ 4/ / 74/ / / 企/ 業/ 獲/ 利/ 優/ 於/ 預/ 期/ / \n",
      "\n"
     ]
    }
   ],
   "source": [
    "Sentence = jieba.cut(news_text, cut_all=True)\n",
    "print(u'全模式'+\": \"  + \"/ \".join(Sentence))"
   ]
  },
  {
   "cell_type": "code",
   "execution_count": 26,
   "metadata": {},
   "outputs": [
    {
     "name": "stdout",
     "output_type": "stream",
     "text": [
      "精確模式: 美國/ 股市/ 週/ 三中/ 場/ 下跌/ 。/ 銀行/ 股/ 走低/ ，/ 可能/ 連/ 四天/ 收低/ ，/ 拖累/ 主要/ 指數/ 自高點/ 下滑/ 。/ \n",
      "/ 週二/ ，/ 道瓊/ 與/  / S/ &/ P/  / 500/  / 均/ 創新/ 收盤/ 高點/ 。/ \n",
      "/ 共和/ 黨/ 在/ 紐澤/ 西州/ 與/ 維吉尼亞州/ 的/ 選舉/ 中/ 落敗/ ，/ 增加/ 了/ 稅改/ 計畫/ 的/ 不確/ 定性/ ，/ 銀行/ 股/ 因而/ 下跌/ 。/ \n",
      "/ 台北/ 時間/  / 01/ :/ 14/ \n",
      "/ 道瓊/ 工業/ 平均/ 指數/ 下跌/  / 14.54/  / 點或/  / 0.06%/  / 至/  / 23542.69/ 。/ \n",
      "/ Nasdaq/  / 指數/ 上/ 漲/  / 3.43/  / 點或/  / 0.05%/  / 至/  / 6771.22/ 。/ \n",
      "/ S/ &/ P/  / 500/  / 指數/ 下跌/  / 0.67/  / 點或/  / 0.03%/  / 至/  / 2589.97/ 。/ \n",
      "/ 分析/ 師說/ ，/ 維吉尼亞州/ 昨晚/ 的/ 選舉/ 結果/ ，/ 可能/ 促使/ 共和/ 黨在稅/ 改上/ ，/ 採取/ 較/ 民粹/ 的/ 方式/ ，/ 公司/ 稅的/ 改變/ 可能/ 受限/ 。/ \n",
      "/ 選舉/ 結果/ 亦/ 顯示/ ，/ 2018/  / 年/ 選舉/ 後/ ，/ 眾院/ 可能/ 變天/ ，/ 民主/ 黨/ 的/ 華/ 特斯/ 可能/ 擔任/ 眾院/ 金融/ 服務委員會/ 主席/ ，/ 投資人/ 認為/ 他/ 對/ 金融股/ 屬/ 利空/ ，/ 尤其/ 是/ 大型/ 銀行/ 股/ 。/ \n",
      "/ 但/ 亦/ 有/ 分析/ 師/ 表示/ ，/ 目前/ 並不擔/ 憂/ 股市/ 。/ 如果/ 看看/ 資產負/ 債表及/ 企業/ 獲利/ ，/ 仍然/ 強勁/ 。/ 但若殖/ 利率/ 曲線/ 反轉/ ，/ 則/ 令人/ 憂心/ 。/ \n",
      "/ 川普/ 總統/ 勝選/ 已滿/ 一年/ ，/ 美國/ 股市/ 上漲/ 了/ 逾/  / 20%/ 。/ 川普勝選/ ，/ 推升/ 了/ 稅改/ 的/ 期望/ ，/ 拉/ 抬/ 了/ 股市/ 氣氛/ 。/ \n",
      "/ 在/ 選/ 後/ 的/ 漲/ 勢裡/ ，/ 波動率/ 非常低/ 。/ 上週/ ，/ CBOE/  / 波動/ 指數/ 跌破/  / 9/ ，/ 為史/ 上/ 第三次/ 跌破/ 該水準/ 。/ \n",
      "/ S/ &/ P/  / 500/  / 出現/ 了數/ 十年/ 來/ 最長/ 久/ 的/ 漲勢/ 之一/ ，/ 未見/ 有/  / 3%/  / 或/  / 5%/  / 的/ 回檔/ 。/ \n",
      "/ 大選/ 後/ ，/ 股市/ 強勁/ 的/ 漲勢/ ，/ 係/ 獲得/ 全球/ 經濟/ 改善/ 的/ 支撑/ 。/ 分析/ 師說/ ，/ 選舉/ 的/ 確會/ 對/ 股市/ 造成/ 衝擊/ ，/ 但/ 影響/ 股市/ 的/ 主要/ 因素/ 仍/ 是/ 全球/ 經濟/ 強勁/ 。/ \n",
      "/ 企業/ 季報/ 大多/ 已/ 公布/ ，/ 本財/ 報季/ 可謂/ 強勁/ 。/ 已有/  / 87%/  / 的/  / S/ &/ P/  / 500/  / 企業/ 公布/ 了/ 財報/ ，/ 獲利較/ 去年同期/ 成長/  / 6.4%/ ，/ 74%/  / 企業/ 獲利優/ 於/ 預期/ 。/ \n",
      "\n"
     ]
    }
   ],
   "source": [
    "Sentence = jieba.cut(news_text, cut_all=False)\n",
    "print(u'精確模式'+\": \" + \"/ \".join(Sentence))  "
   ]
  },
  {
   "cell_type": "code",
   "execution_count": 27,
   "metadata": {},
   "outputs": [
    {
     "name": "stdout",
     "output_type": "stream",
     "text": [
      "Default為精確模式: 美國/ 股市/ 週/ 三中/ 場/ 下跌/ 。/ 銀行/ 股/ 走低/ ，/ 可能/ 連/ 四天/ 收低/ ，/ 拖累/ 主要/ 指數/ 自高點/ 下滑/ 。/ \n",
      "/ 週二/ ，/ 道瓊/ 與/  / S/ &/ P/  / 500/  / 均/ 創新/ 收盤/ 高點/ 。/ \n",
      "/ 共和/ 黨/ 在/ 紐澤/ 西州/ 與/ 維吉尼亞州/ 的/ 選舉/ 中/ 落敗/ ，/ 增加/ 了/ 稅改/ 計畫/ 的/ 不確/ 定性/ ，/ 銀行/ 股/ 因而/ 下跌/ 。/ \n",
      "/ 台北/ 時間/  / 01/ :/ 14/ \n",
      "/ 道瓊/ 工業/ 平均/ 指數/ 下跌/  / 14.54/  / 點或/  / 0.06%/  / 至/  / 23542.69/ 。/ \n",
      "/ Nasdaq/  / 指數/ 上/ 漲/  / 3.43/  / 點或/  / 0.05%/  / 至/  / 6771.22/ 。/ \n",
      "/ S/ &/ P/  / 500/  / 指數/ 下跌/  / 0.67/  / 點或/  / 0.03%/  / 至/  / 2589.97/ 。/ \n",
      "/ 分析/ 師說/ ，/ 維吉尼亞州/ 昨晚/ 的/ 選舉/ 結果/ ，/ 可能/ 促使/ 共和/ 黨在稅/ 改上/ ，/ 採取/ 較/ 民粹/ 的/ 方式/ ，/ 公司/ 稅的/ 改變/ 可能/ 受限/ 。/ \n",
      "/ 選舉/ 結果/ 亦/ 顯示/ ，/ 2018/  / 年/ 選舉/ 後/ ，/ 眾院/ 可能/ 變天/ ，/ 民主/ 黨/ 的/ 華/ 特斯/ 可能/ 擔任/ 眾院/ 金融/ 服務委員會/ 主席/ ，/ 投資人/ 認為/ 他/ 對/ 金融股/ 屬/ 利空/ ，/ 尤其/ 是/ 大型/ 銀行/ 股/ 。/ \n",
      "/ 但/ 亦/ 有/ 分析/ 師/ 表示/ ，/ 目前/ 並不擔/ 憂/ 股市/ 。/ 如果/ 看看/ 資產負/ 債表及/ 企業/ 獲利/ ，/ 仍然/ 強勁/ 。/ 但若殖/ 利率/ 曲線/ 反轉/ ，/ 則/ 令人/ 憂心/ 。/ \n",
      "/ 川普/ 總統/ 勝選/ 已滿/ 一年/ ，/ 美國/ 股市/ 上漲/ 了/ 逾/  / 20%/ 。/ 川普勝選/ ，/ 推升/ 了/ 稅改/ 的/ 期望/ ，/ 拉/ 抬/ 了/ 股市/ 氣氛/ 。/ \n",
      "/ 在/ 選/ 後/ 的/ 漲/ 勢裡/ ，/ 波動率/ 非常低/ 。/ 上週/ ，/ CBOE/  / 波動/ 指數/ 跌破/  / 9/ ，/ 為史/ 上/ 第三次/ 跌破/ 該水準/ 。/ \n",
      "/ S/ &/ P/  / 500/  / 出現/ 了數/ 十年/ 來/ 最長/ 久/ 的/ 漲勢/ 之一/ ，/ 未見/ 有/  / 3%/  / 或/  / 5%/  / 的/ 回檔/ 。/ \n",
      "/ 大選/ 後/ ，/ 股市/ 強勁/ 的/ 漲勢/ ，/ 係/ 獲得/ 全球/ 經濟/ 改善/ 的/ 支撑/ 。/ 分析/ 師說/ ，/ 選舉/ 的/ 確會/ 對/ 股市/ 造成/ 衝擊/ ，/ 但/ 影響/ 股市/ 的/ 主要/ 因素/ 仍/ 是/ 全球/ 經濟/ 強勁/ 。/ \n",
      "/ 企業/ 季報/ 大多/ 已/ 公布/ ，/ 本財/ 報季/ 可謂/ 強勁/ 。/ 已有/  / 87%/  / 的/  / S/ &/ P/  / 500/  / 企業/ 公布/ 了/ 財報/ ，/ 獲利較/ 去年同期/ 成長/  / 6.4%/ ，/ 74%/  / 企業/ 獲利優/ 於/ 預期/ 。/ \n",
      "\n"
     ]
    }
   ],
   "source": [
    "Sentence = jieba.cut(news_text)  \n",
    "print(u'Default為精確模式'+\": \" + \"/ \".join(Sentence))"
   ]
  },
  {
   "cell_type": "code",
   "execution_count": 20,
   "metadata": {},
   "outputs": [
    {
     "name": "stdout",
     "output_type": "stream",
     "text": [
      "搜索引擎模式: 美國/ 股市/ 週/ 三中/ 場/ 下跌/ 。/ 銀行/ 股/ 走低/ ，/ 可能/ 連/ 四天/ 收低/ ，/ 拖累/ 主要/ 指數/ 自高點/ 下滑/ 。/ \n",
      "/ 週二/ ，/ 道瓊/ 與/  / S/ &/ P/  / 500/  / 均/ 創新/ 收盤/ 高點/ 。/ \n",
      "/ 共和/ 黨/ 在/ 紐澤/ 西州/ 與/ 維吉尼亞州/ 的/ 選舉/ 中/ 落敗/ ，/ 增加/ 了/ 稅改/ 計畫/ 的/ 不確/ 定性/ ，/ 銀行/ 股/ 因而/ 下跌/ 。/ \n",
      "/ 台北/ 時間/  / 01/ :/ 14/ \n",
      "/ 道瓊/ 工業/ 平均/ 指數/ 下跌/  / 14.54/  / 點或/  / 0.06%/  / 至/  / 23542.69/ 。/ \n",
      "/ Nasdaq/  / 指數/ 上/ 漲/  / 3.43/  / 點或/  / 0.05%/  / 至/  / 6771.22/ 。/ \n",
      "/ S/ &/ P/  / 500/  / 指數/ 下跌/  / 0.67/  / 點或/  / 0.03%/  / 至/  / 2589.97/ 。/ \n",
      "/ 分析/ 師說/ ，/ 維吉尼亞州/ 昨晚/ 的/ 選舉/ 結果/ ，/ 可能/ 促使/ 共和/ 黨在稅/ 改上/ ，/ 採取/ 較/ 民粹/ 的/ 方式/ ，/ 公司/ 稅的/ 改變/ 可能/ 受限/ 。/ \n",
      "/ 選舉/ 結果/ 亦/ 顯示/ ，/ 2018/  / 年/ 選舉/ 後/ ，/ 眾院/ 可能/ 變天/ ，/ 民主/ 黨/ 的/ 華/ 特斯/ 可能/ 擔任/ 眾院/ 金融/ 服務委員會/ 主席/ ，/ 投資人/ 認為/ 他/ 對/ 金融/ 金融股/ 屬/ 利空/ ，/ 尤其/ 是/ 大型/ 銀行/ 股/ 。/ \n",
      "/ 但/ 亦/ 有/ 分析/ 師/ 表示/ ，/ 目前/ 並不擔/ 憂/ 股市/ 。/ 如果/ 看看/ 資產負/ 債表及/ 企業/ 獲利/ ，/ 仍然/ 強勁/ 。/ 但若殖/ 利率/ 曲線/ 反轉/ ，/ 則/ 令人/ 憂心/ 。/ \n",
      "/ 川普/ 總統/ 勝選/ 已滿/ 一年/ ，/ 美國/ 股市/ 上漲/ 了/ 逾/  / 20%/ 。/ 川普勝選/ ，/ 推升/ 了/ 稅改/ 的/ 期望/ ，/ 拉/ 抬/ 了/ 股市/ 氣氛/ 。/ \n",
      "/ 在/ 選/ 後/ 的/ 漲/ 勢裡/ ，/ 波動率/ 非常/ 非常低/ 。/ 上週/ ，/ CBOE/  / 波動/ 指數/ 跌破/  / 9/ ，/ 為史/ 上/ 第三/ 三次/ 第三次/ 跌破/ 該水準/ 。/ \n",
      "/ S/ &/ P/  / 500/  / 出現/ 了數/ 十年/ 來/ 最長/ 久/ 的/ 漲勢/ 之一/ ，/ 未見/ 有/  / 3%/  / 或/  / 5%/  / 的/ 回檔/ 。/ \n",
      "/ 大選/ 後/ ，/ 股市/ 強勁/ 的/ 漲勢/ ，/ 係/ 獲得/ 全球/ 經濟/ 改善/ 的/ 支撑/ 。/ 分析/ 師說/ ，/ 選舉/ 的/ 確會/ 對/ 股市/ 造成/ 衝擊/ ，/ 但/ 影響/ 股市/ 的/ 主要/ 因素/ 仍/ 是/ 全球/ 經濟/ 強勁/ 。/ \n",
      "/ 企業/ 季報/ 大多/ 已/ 公布/ ，/ 本財/ 報季/ 可謂/ 強勁/ 。/ 已有/  / 87%/  / 的/  / S/ &/ P/  / 500/  / 企業/ 公布/ 了/ 財報/ ，/ 獲利較/ 去年/ 同期/ 去年同期/ 成長/  / 6.4%/ ，/ 74%/  / 企業/ 獲利優/ 於/ 預期/ 。/ \n",
      "\n"
     ]
    }
   ],
   "source": [
    "Sentence = jieba.cut_for_search(news_text)  \n",
    "print(u'搜索引擎模式'+\": \" + \"/ \".join(Sentence))"
   ]
  }
 ],
 "metadata": {
  "kernelspec": {
   "display_name": "Python 3",
   "language": "python",
   "name": "python3"
  },
  "language_info": {
   "codemirror_mode": {
    "name": "ipython",
    "version": 3
   },
   "file_extension": ".py",
   "mimetype": "text/x-python",
   "name": "python",
   "nbconvert_exporter": "python",
   "pygments_lexer": "ipython3",
   "version": "3.6.2"
  }
 },
 "nbformat": 4,
 "nbformat_minor": 2
}
