{
 "cells": [
  {
   "cell_type": "code",
   "execution_count": 4,
   "metadata": {},
   "outputs": [
    {
     "name": "stdout",
     "output_type": "stream",
     "text": [
      "Hello world!\n",
      "This is Alice's greeting.\n",
      "This is Bob's greeting.\n",
      "5 plus 10 is equal to 15\n",
      "foo\n",
      "==========\n",
      "Current working directory is C:\\Users\\lovehebe0330\\Documents\n",
      "I like to eat apples\n",
      "I like to eat oranges\n",
      "I like to eat cats\n",
      "Count to ten\n",
      "0\n",
      "1\n",
      "2\n",
      "3\n",
      "4\n",
      "5\n",
      "6\n",
      "7\n",
      "8\n",
      "9\n"
     ]
    }
   ],
   "source": [
    "# 載入模組\n",
    "import os\n",
    "\n",
    "# 這是main()的註解\n",
    "def main():\n",
    "    # Python 3 需使用()包住字串\n",
    "    print ('Hello world!')\n",
    "    # 若有''的話則須使用\"\"包住字串\n",
    "    print (\"This is Alice's greeting.\")\n",
    "    # 要打 '則先用\\\n",
    "    print ('This is Bob\\'s greeting.')\n",
    "    \n",
    "    # 呼叫Function\n",
    "    foo(5, 10)\n",
    "    \n",
    "    # 字串可以用數字重複\n",
    "    print ('=' * 10)\n",
    "    # 找到目前所在目錄 \n",
    "    print ('Current working directory is ' + os.getcwd())\n",
    "    \n",
    "    # 變數需先事先定義\n",
    "    counter = 0\n",
    "    # 由初始值+1不斷更新\n",
    "    counter += 1\n",
    "    \n",
    "    # 建立list的方法，list裡可含有不同Type的值，亦可以是另一個list\n",
    "    food = ['apples', 'oranges', 'cats']\n",
    "    \n",
    "    # 以food作迴圈變數，i = 'apples', 'oranges', 'cats'\n",
    "    for i in food:\n",
    "        print ('I like to eat ' + i)\n",
    "    \n",
    "    # 以range function列出0~9的數值\n",
    "    print ('Count to ten')\n",
    "    # 別忘記最後要冒號\n",
    "    for i in range(10):\n",
    "        print (i)\n",
    "   \n",
    " # 自行定義foo function 別忘記最後要冒號\n",
    "def foo(param1, secondParam):\n",
    "    # 自行定義公式\n",
    "    res = param1 + secondParam\n",
    "    \n",
    "    # 插入Function中算出來的值在字串裡 字串裡工作方式與C的方式基本相同\n",
    "    print ('%s plus %s is equal to %s' % (param1, secondParam, res))\n",
    "    \n",
    "    # 計算出來的值小於50，則印出foo 工作方式與C的方式基本相同\n",
    "    if res < 50:\n",
    "        print('foo')\n",
    "    \n",
    "    # 若 res >= 50 且 param1 = 42 or secondParam = 24，則印出bar\n",
    "    elif (res >= 50) and ((param1 == 42) or (secondParam == 24)):\n",
    "        print('bar')\n",
    "        \n",
    "    # 上述所設定的條件外的結果皆印出moo\n",
    "    else:\n",
    "        print('moo')\n",
    "        \n",
    "    return res # This is a one-line comment.\n",
    "    # 唯初始的indendation會影響，而後面的字串不影響\n",
    "    '''A multi-\n",
    "line string, but can also be a multi-line comment.'''\n",
    "    \n",
    "# indendation結束，如此寫可以有被\"執行\"及被\"import\"兩種不同的結果，若Value為__main__表示該程式被\"執行\"，非被import\n",
    "#而若該程式為被\"import\"則該程式將不會被執行\n",
    "if __name__ == '__main__':\n",
    "    main()\n",
    "    "
   ]
  },
  {
   "cell_type": "code",
   "execution_count": null,
   "metadata": {
    "collapsed": true
   },
   "outputs": [],
   "source": []
  }
 ],
 "metadata": {
  "kernelspec": {
   "display_name": "Python 3",
   "language": "python",
   "name": "python3"
  },
  "language_info": {
   "codemirror_mode": {
    "name": "ipython",
    "version": 3
   },
   "file_extension": ".py",
   "mimetype": "text/x-python",
   "name": "python",
   "nbconvert_exporter": "python",
   "pygments_lexer": "ipython3",
   "version": "3.6.2"
  }
 },
 "nbformat": 4,
 "nbformat_minor": 2
}
